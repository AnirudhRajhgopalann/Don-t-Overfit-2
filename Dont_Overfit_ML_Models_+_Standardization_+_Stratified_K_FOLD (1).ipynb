{
 "cells": [
  {
   "cell_type": "markdown",
   "metadata": {
    "colab_type": "text",
    "id": "0T-UxAwVr63i"
   },
   "source": [
    "<h2>Don't Overfit </h2>"
   ]
  },
  {
   "cell_type": "markdown",
   "metadata": {
    "colab_type": "text",
    "id": "ImItS9dkr63l"
   },
   "source": [
    "<h2>Problem Statement </h2>"
   ]
  },
  {
   "cell_type": "markdown",
   "metadata": {
    "colab_type": "text",
    "id": "5vdtKfkwr63m"
   },
   "source": [
    "- Donot Overfit 2 is a unique problem statement where we are provided with only 250 training samples and 19750 test samples.\n",
    "- The Objective of the problem is not to overfit with this train data and generalize well with our test data samples.\n",
    "- The data set consists of 300 continuous random variables each standardized with mean centered to zero and variance 1."
   ]
  },
  {
   "cell_type": "markdown",
   "metadata": {
    "colab_type": "text",
    "id": "Aw02Jmw-r63o"
   },
   "source": [
    "<h2> Performance Metrics Used </h2>"
   ]
  },
  {
   "cell_type": "markdown",
   "metadata": {
    "colab_type": "text",
    "id": "8rUthFtJr637"
   },
   "source": [
    "- The Problem uses ROC AUC SCORE as the metric to measure the model performance"
   ]
  },
  {
   "cell_type": "code",
   "execution_count": 95,
   "metadata": {
    "colab": {},
    "colab_type": "code",
    "id": "nAV7-QOxr638"
   },
   "outputs": [],
   "source": [
    "import numpy as np\n",
    "import pandas as pd\n",
    "from scipy import stats\n",
    "import sklearn\n",
    "import warnings\n",
    "warnings.filterwarnings('ignore')\n",
    "from sklearn.linear_model import LogisticRegression\n",
    "from sklearn.linear_model import SGDClassifier\n",
    "from sklearn.neighbors import KNeighborsClassifier\n",
    "from sklearn.naive_bayes import GaussianNB\n",
    "from sklearn.ensemble import RandomForestClassifier\n",
    "from sklearn.model_selection import RepeatedStratifiedKFold\n",
    "import seaborn as sns\n",
    "import matplotlib.pyplot as plt\n",
    "from tqdm import tqdm\n",
    "from sklearn.calibration import CalibratedClassifierCV\n",
    "from sklearn.model_selection import RandomizedSearchCV\n",
    "from sklearn.model_selection import GridSearchCV\n",
    "from sklearn.preprocessing import StandardScaler\n",
    "from sklearn.metrics import roc_auc_score\n",
    "import statsmodels.api as sm\n",
    "from sklearn.preprocessing import MinMaxScaler\n",
    "pd.options.mode.chained_assignment = None   # default='warn'\n",
    "from mlxtend.classifier import StackingClassifier\n",
    "from sklearn.linear_model import Lasso\n",
    "from mlxtend.feature_selection import SequentialFeatureSelector as SFS\n",
    "from scipy.stats import randint as sp_randint\n",
    "from scipy.stats import uniform\n",
    "from scipy import stats\n",
    "#import xgboost as xgb\n",
    "from sklearn.utils.class_weight import compute_class_weight\n",
    "from xgboost import XGBClassifier"
   ]
  },
  {
   "cell_type": "markdown",
   "metadata": {
    "colab_type": "text",
    "id": "0XUj1f4nr64D"
   },
   "source": [
    "<h1>Getting the Data into Data Frame </h1>"
   ]
  },
  {
   "cell_type": "code",
   "execution_count": 81,
   "metadata": {
    "colab": {},
    "colab_type": "code",
    "id": "R4N_8wa-r64E"
   },
   "outputs": [],
   "source": [
    "train_data=pd.read_csv(\"train.csv\")\n",
    "test_data=pd.read_csv(\"test.csv\")"
   ]
  },
  {
   "cell_type": "markdown",
   "metadata": {
    "colab_type": "text",
    "id": "Xovz4tEXr64K"
   },
   "source": [
    "<h3>Simple First-Cut Solution using Logistic Regression and RepeatedStratifiedKFold</h3>"
   ]
  },
  {
   "cell_type": "markdown",
   "metadata": {
    "colab_type": "text",
    "id": "4ajBpIGJr64M"
   },
   "source": [
    "<h5>Data Split</h5>"
   ]
  },
  {
   "cell_type": "code",
   "execution_count": 82,
   "metadata": {
    "colab": {},
    "colab_type": "code",
    "id": "XqfAfo70r64N"
   },
   "outputs": [],
   "source": [
    "train_data[\"target\"]=train_data[\"target\"].astype(int)\n",
    "train_data=train_data.drop(\"id\",axis=1)\n",
    "X=train_data.drop(\"target\",axis=1)\n",
    "Y=train_data['target']\n",
    "test=test_data.drop(\"id\",axis=1)"
   ]
  },
  {
   "cell_type": "code",
   "execution_count": 86,
   "metadata": {
    "colab": {
     "base_uri": "https://localhost:8080/",
     "height": 128
    },
    "colab_type": "code",
    "id": "vYc9QdaJcX_K",
    "outputId": "1764723f-b033-4126-c474-7a5190766384"
   },
   "outputs": [
    {
     "ename": "SyntaxError",
     "evalue": "ignored",
     "output_type": "error",
     "traceback": [
      "\u001b[0;36m  File \u001b[0;32m\"<ipython-input-86-76a698271b94>\"\u001b[0;36m, line \u001b[0;32m1\u001b[0m\n\u001b[0;31m    <h3>Let us add simple features like mean,std and sum etc </h3>\u001b[0m\n\u001b[0m    ^\u001b[0m\n\u001b[0;31mSyntaxError\u001b[0m\u001b[0;31m:\u001b[0m invalid syntax\n"
     ]
    }
   ],
   "source": [
    "<h3>Let us add simple features like mean,std and sum etc </h3>"
   ]
  },
  {
   "cell_type": "code",
   "execution_count": 87,
   "metadata": {
    "colab": {},
    "colab_type": "code",
    "id": "lt7SAXL7cjqX"
   },
   "outputs": [],
   "source": [
    "def simple_feature_engg(data):\n",
    "  data[\"mean\"]=np.mean(data,axis=1)\n",
    "  data[\"sum\"]=np.sum(data,axis=1)\n",
    "  data[\"std_dev\"]=np.std(data,axis=1)\n",
    "  return data"
   ]
  },
  {
   "cell_type": "code",
   "execution_count": 88,
   "metadata": {
    "colab": {},
    "colab_type": "code",
    "id": "TKyahA9rc8A5"
   },
   "outputs": [],
   "source": [
    "X_fe=simple_feature_engg(X)\n",
    "test_fe=simple_feature_engg(test)"
   ]
  },
  {
   "cell_type": "code",
   "execution_count": 89,
   "metadata": {
    "colab": {},
    "colab_type": "code",
    "id": "yuGnJ09wdey8"
   },
   "outputs": [],
   "source": [
    "from sklearn.preprocessing import StandardScaler\n",
    "def standardize(data,test_data):\n",
    "  scaler=StandardScaler()\n",
    "  scaler=scaler.fit(data)\n",
    "  trans_data=scaler.transform(data)\n",
    "  test_trans_data=scaler.transform(test_data)\n",
    "  return((pd.DataFrame(trans_data,columns=data.columns),pd.DataFrame(test_trans_data,columns=data.columns)))"
   ]
  },
  {
   "cell_type": "code",
   "execution_count": 90,
   "metadata": {
    "colab": {},
    "colab_type": "code",
    "id": "GVOYVjR5enOd"
   },
   "outputs": [],
   "source": [
    "X_scaled,test_scaled=standardize(X_fe,test_fe)"
   ]
  },
  {
   "cell_type": "code",
   "execution_count": 1,
   "metadata": {
    "colab": {},
    "colab_type": "code",
    "id": "iCo6RgvJyovw"
   },
   "outputs": [],
   "source": [
    "def model_with_parameters(model_name):\n",
    "\n",
    "  if model_name==\"KNN\":\n",
    "    model=KNeighborsClassifier()\n",
    "    param_= {'n_neighbors':np.arange(3,45,2).tolist(),'algorithm':['kdtree','brute']}\n",
    "\n",
    "  elif model_name==\"LR\":\n",
    "    model=SGDClassifier(loss='log',class_weight='balanced',n_jobs=-1)\n",
    "    param_={\"penalty\":[\"l1\",\"l2\",\"elasticnet\"],\n",
    "        \"alpha\":np.arange(0.1,0.9,0.01),\n",
    "        \"l1_ratio\":np.arange(0.1,0.9,0.05)\n",
    "      }\n",
    "\n",
    "  elif model_name== \"SVM\":\n",
    "    model=SGDClassifier(loss='hinge',class_weight='balanced',n_jobs=-1)\n",
    "    param_={\"penalty\":[\"l1\",\"l2\",\"elasticnet\"],\n",
    "        \"alpha\":np.arange(0.1,0.9,0.01),\n",
    "        \"l1_ratio\":np.arange(0.1,0.9,0.05)}\n",
    "      \n",
    "  elif model_name == \"GNB\":\n",
    "    model=GaussianNB()\n",
    "    param_=\"\"\n",
    "\n",
    "  elif model_name == \"RF\":\n",
    "    model= RandomForestClassifier(random_state=42)\n",
    "    param_={'n_estimators':[10,20,30,40,50,100,200,300,400],'max_depth':[2,3,5,7]}\n",
    "\n",
    "  elif model_name == \"XGB\":\n",
    "    model=XGBClassifier(scale_pos_weight=0.5)\n",
    "    param_={\"max_depth\":[2,3,5,7],'n_estimators':[10,20,50,100,200,300]}\n",
    "\n",
    "  return (model,param_) "
   ]
  },
  {
   "cell_type": "markdown",
   "metadata": {
    "colab_type": "text",
    "id": "K4Yi2ghyr64l"
   },
   "source": [
    "<h4>Random Search and Stratified-K-Fold Strategy </h4>"
   ]
  },
  {
   "cell_type": "code",
   "execution_count": 65,
   "metadata": {
    "colab": {},
    "colab_type": "code",
    "id": "B_C6psMer64m"
   },
   "outputs": [],
   "source": [
    "def rskf_func(n_splits,n_repeats): #Creating a function for repeated stratified K-Fold Object\n",
    "    rskf_var=RepeatedStratifiedKFold(n_splits=n_splits,n_repeats=n_repeats)\n",
    "    return rskf_var"
   ]
  },
  {
   "cell_type": "code",
   "execution_count": 110,
   "metadata": {
    "colab": {},
    "colab_type": "code",
    "id": "z0ijBditDxlT"
   },
   "outputs": [],
   "source": [
    "def rskf_train(data,train_labels,test_data,model_name):\n",
    "\n",
    "  test_val=np.zeros(len(test_data))\n",
    "  cnt=0\n",
    "  rskf=rskf_func(10,10)\n",
    "  for train_index,valid_index in rskf.split(data,train_labels):\n",
    "      #Gets 19 chunks of splitted data for train and 1 chunk for the validation out of 20 chunks\n",
    "      #Each chunk can be used for validation once.Hence 20 iterations for 20 chunks\n",
    "      #And we are repeating the process for 20 times.So 400 iterations in total\n",
    "      X_train,X_valid=data.loc[train_index],X.loc[valid_index]\n",
    "      Y_train,Y_valid=train_labels.loc[train_index],Y.loc[valid_index]\n",
    "      model,param=model_with_parameters(model_name)\n",
    "      if model_name == \"GNB\":\n",
    "        model.fit(X_train,Y_train)\n",
    "        clf_calib=CalibratedClassifierCV(model,cv=20,method='sigmoid')\n",
    "        clf_calib.fit(X_train,Y_train)\n",
    "      \n",
    "      else:  \n",
    "        grid_model=RandomizedSearchCV(model,param,cv=3,scoring='roc_auc',n_jobs=-1,verbose=0)\n",
    "        grid_model.fit(X_train,Y_train)\n",
    "        clf_calib=CalibratedClassifierCV(grid_model.best_estimator_,cv=4,method='sigmoid')\n",
    "        clf_calib.fit(X_train,Y_train)\n",
    "\n",
    "      if model_name == \"stack\":\n",
    "        score=roc_auc_score(Y_valid.values,sclf.predict_proba(X_valid)[:,1])\n",
    "        if(score > 0.75):\n",
    "          print(\"Model ok for iteration\")\n",
    "        else:\n",
    "          print(\"Skip model for this iteration\")\n",
    "      else:\n",
    "        valid_roc=roc_auc_score(Y_valid.values,clf_calib.predict_proba(X_valid)[:,1])\n",
    "        if( valid_roc > 0.75):\n",
    "          print(\"<---Model ok for iteration\")\n",
    "          test_val+=clf_calib.predict_proba(test_data)[:,1]\n",
    "          cnt+=1\n",
    "        else:\n",
    "          print(\"Skipping Model for this Iteration\")\n",
    "  \n",
    "  \n",
    "  final_prediction=test_val* (1./cnt)\n",
    "\n",
    "  return final_prediction\n"
   ]
  },
  {
   "cell_type": "code",
   "execution_count": 114,
   "metadata": {
    "colab": {
     "base_uri": "https://localhost:8080/",
     "height": 723
    },
    "colab_type": "code",
    "id": "-ObQKs8EFosk",
    "outputId": "6dfab1ca-ef40-4aed-afb5-bf54f5270a00"
   },
   "outputs": [
    {
     "name": "stderr",
     "output_type": "stream",
     "text": [
      "\n",
      "\n",
      "\n",
      "\n",
      "\n",
      "\n",
      "  0%|          | 0/6 [00:00<?, ?it/s]\u001b[A\u001b[A\u001b[A\u001b[A\u001b[A\u001b[A"
     ]
    },
    {
     "name": "stdout",
     "output_type": "stream",
     "text": [
      "Skipping Model for this Iteration\n",
      "Skipping Model for this Iteration\n",
      "Skipping Model for this Iteration\n",
      "Skipping Model for this Iteration\n",
      "Skipping Model for this Iteration\n",
      "Skipping Model for this Iteration\n",
      "Skipping Model for this Iteration\n",
      "Skipping Model for this Iteration\n",
      "<---Model ok for iteration\n",
      "Skipping Model for this Iteration\n",
      "<---Model ok for iteration\n",
      "Skipping Model for this Iteration\n",
      "Skipping Model for this Iteration\n",
      "Skipping Model for this Iteration\n",
      "<---Model ok for iteration\n"
     ]
    },
    {
     "name": "stderr",
     "output_type": "stream",
     "text": [
      "\r",
      "  0%|          | 0/6 [00:08<?, ?it/s]\n"
     ]
    },
    {
     "ename": "KeyboardInterrupt",
     "evalue": "ignored",
     "output_type": "error",
     "traceback": [
      "\u001b[0;31m---------------------------------------------------------------------------\u001b[0m",
      "\u001b[0;31mKeyboardInterrupt\u001b[0m                         Traceback (most recent call last)",
      "\u001b[0;32m<ipython-input-114-2059db82a26c>\u001b[0m in \u001b[0;36m<module>\u001b[0;34m()\u001b[0m\n\u001b[1;32m      2\u001b[0m \u001b[0mpred_dict\u001b[0m\u001b[0;34m=\u001b[0m\u001b[0;34m{\u001b[0m\u001b[0;34m}\u001b[0m\u001b[0;34m\u001b[0m\u001b[0;34m\u001b[0m\u001b[0m\n\u001b[1;32m      3\u001b[0m \u001b[0;32mfor\u001b[0m \u001b[0mmodel\u001b[0m \u001b[0;32min\u001b[0m \u001b[0mtqdm\u001b[0m\u001b[0;34m(\u001b[0m\u001b[0mmodel_list\u001b[0m\u001b[0;34m)\u001b[0m\u001b[0;34m:\u001b[0m\u001b[0;34m\u001b[0m\u001b[0;34m\u001b[0m\u001b[0m\n\u001b[0;32m----> 4\u001b[0;31m   \u001b[0mprediction\u001b[0m\u001b[0;34m=\u001b[0m\u001b[0mrskf_train\u001b[0m\u001b[0;34m(\u001b[0m\u001b[0mX_scaled\u001b[0m\u001b[0;34m,\u001b[0m\u001b[0mY\u001b[0m\u001b[0;34m,\u001b[0m\u001b[0mtest_scaled\u001b[0m\u001b[0;34m,\u001b[0m\u001b[0mmodel\u001b[0m\u001b[0;34m)\u001b[0m\u001b[0;34m\u001b[0m\u001b[0;34m\u001b[0m\u001b[0m\n\u001b[0m\u001b[1;32m      5\u001b[0m   \u001b[0mpred_dict\u001b[0m\u001b[0;34m[\u001b[0m\u001b[0mmodel\u001b[0m\u001b[0;34m]\u001b[0m\u001b[0;34m=\u001b[0m\u001b[0mprediction\u001b[0m\u001b[0;34m\u001b[0m\u001b[0;34m\u001b[0m\u001b[0m\n",
      "\u001b[0;32m<ipython-input-110-3fd670a74d45>\u001b[0m in \u001b[0;36mrskf_train\u001b[0;34m(data, train_labels, test_data, model_name)\u001b[0m\n\u001b[1;32m     33\u001b[0m       \u001b[0;32melse\u001b[0m\u001b[0;34m:\u001b[0m\u001b[0;34m\u001b[0m\u001b[0;34m\u001b[0m\u001b[0m\n\u001b[1;32m     34\u001b[0m         \u001b[0mgrid_model\u001b[0m\u001b[0;34m=\u001b[0m\u001b[0mRandomizedSearchCV\u001b[0m\u001b[0;34m(\u001b[0m\u001b[0mmodel\u001b[0m\u001b[0;34m,\u001b[0m\u001b[0mparam\u001b[0m\u001b[0;34m,\u001b[0m\u001b[0mcv\u001b[0m\u001b[0;34m=\u001b[0m\u001b[0;36m3\u001b[0m\u001b[0;34m,\u001b[0m\u001b[0mscoring\u001b[0m\u001b[0;34m=\u001b[0m\u001b[0;34m'roc_auc'\u001b[0m\u001b[0;34m,\u001b[0m\u001b[0mn_jobs\u001b[0m\u001b[0;34m=\u001b[0m\u001b[0;34m-\u001b[0m\u001b[0;36m1\u001b[0m\u001b[0;34m,\u001b[0m\u001b[0mverbose\u001b[0m\u001b[0;34m=\u001b[0m\u001b[0;36m0\u001b[0m\u001b[0;34m)\u001b[0m\u001b[0;34m\u001b[0m\u001b[0;34m\u001b[0m\u001b[0m\n\u001b[0;32m---> 35\u001b[0;31m         \u001b[0mgrid_model\u001b[0m\u001b[0;34m.\u001b[0m\u001b[0mfit\u001b[0m\u001b[0;34m(\u001b[0m\u001b[0mX_train\u001b[0m\u001b[0;34m,\u001b[0m\u001b[0mY_train\u001b[0m\u001b[0;34m)\u001b[0m\u001b[0;34m\u001b[0m\u001b[0;34m\u001b[0m\u001b[0m\n\u001b[0m\u001b[1;32m     36\u001b[0m         \u001b[0mclf_calib\u001b[0m\u001b[0;34m=\u001b[0m\u001b[0mCalibratedClassifierCV\u001b[0m\u001b[0;34m(\u001b[0m\u001b[0mgrid_model\u001b[0m\u001b[0;34m.\u001b[0m\u001b[0mbest_estimator_\u001b[0m\u001b[0;34m,\u001b[0m\u001b[0mcv\u001b[0m\u001b[0;34m=\u001b[0m\u001b[0;36m4\u001b[0m\u001b[0;34m,\u001b[0m\u001b[0mmethod\u001b[0m\u001b[0;34m=\u001b[0m\u001b[0;34m'sigmoid'\u001b[0m\u001b[0;34m)\u001b[0m\u001b[0;34m\u001b[0m\u001b[0;34m\u001b[0m\u001b[0m\n\u001b[1;32m     37\u001b[0m         \u001b[0mclf_calib\u001b[0m\u001b[0;34m.\u001b[0m\u001b[0mfit\u001b[0m\u001b[0;34m(\u001b[0m\u001b[0mX_train\u001b[0m\u001b[0;34m,\u001b[0m\u001b[0mY_train\u001b[0m\u001b[0;34m)\u001b[0m\u001b[0;34m\u001b[0m\u001b[0;34m\u001b[0m\u001b[0m\n",
      "\u001b[0;32m/usr/local/lib/python3.6/dist-packages/sklearn/model_selection/_search.py\u001b[0m in \u001b[0;36mfit\u001b[0;34m(self, X, y, groups, **fit_params)\u001b[0m\n\u001b[1;32m    708\u001b[0m                 \u001b[0;32mreturn\u001b[0m \u001b[0mresults\u001b[0m\u001b[0;34m\u001b[0m\u001b[0;34m\u001b[0m\u001b[0m\n\u001b[1;32m    709\u001b[0m \u001b[0;34m\u001b[0m\u001b[0m\n\u001b[0;32m--> 710\u001b[0;31m             \u001b[0mself\u001b[0m\u001b[0;34m.\u001b[0m\u001b[0m_run_search\u001b[0m\u001b[0;34m(\u001b[0m\u001b[0mevaluate_candidates\u001b[0m\u001b[0;34m)\u001b[0m\u001b[0;34m\u001b[0m\u001b[0;34m\u001b[0m\u001b[0m\n\u001b[0m\u001b[1;32m    711\u001b[0m \u001b[0;34m\u001b[0m\u001b[0m\n\u001b[1;32m    712\u001b[0m         \u001b[0;31m# For multi-metric evaluation, store the best_index_, best_params_ and\u001b[0m\u001b[0;34m\u001b[0m\u001b[0;34m\u001b[0m\u001b[0;34m\u001b[0m\u001b[0m\n",
      "\u001b[0;32m/usr/local/lib/python3.6/dist-packages/sklearn/model_selection/_search.py\u001b[0m in \u001b[0;36m_run_search\u001b[0;34m(self, evaluate_candidates)\u001b[0m\n\u001b[1;32m   1482\u001b[0m         evaluate_candidates(ParameterSampler(\n\u001b[1;32m   1483\u001b[0m             \u001b[0mself\u001b[0m\u001b[0;34m.\u001b[0m\u001b[0mparam_distributions\u001b[0m\u001b[0;34m,\u001b[0m \u001b[0mself\u001b[0m\u001b[0;34m.\u001b[0m\u001b[0mn_iter\u001b[0m\u001b[0;34m,\u001b[0m\u001b[0;34m\u001b[0m\u001b[0;34m\u001b[0m\u001b[0m\n\u001b[0;32m-> 1484\u001b[0;31m             random_state=self.random_state))\n\u001b[0m",
      "\u001b[0;32m/usr/local/lib/python3.6/dist-packages/sklearn/model_selection/_search.py\u001b[0m in \u001b[0;36mevaluate_candidates\u001b[0;34m(candidate_params)\u001b[0m\n\u001b[1;32m    687\u001b[0m                                \u001b[0;32mfor\u001b[0m \u001b[0mparameters\u001b[0m\u001b[0;34m,\u001b[0m \u001b[0;34m(\u001b[0m\u001b[0mtrain\u001b[0m\u001b[0;34m,\u001b[0m \u001b[0mtest\u001b[0m\u001b[0;34m)\u001b[0m\u001b[0;34m\u001b[0m\u001b[0;34m\u001b[0m\u001b[0m\n\u001b[1;32m    688\u001b[0m                                in product(candidate_params,\n\u001b[0;32m--> 689\u001b[0;31m                                           cv.split(X, y, groups)))\n\u001b[0m\u001b[1;32m    690\u001b[0m \u001b[0;34m\u001b[0m\u001b[0m\n\u001b[1;32m    691\u001b[0m                 \u001b[0;32mif\u001b[0m \u001b[0mlen\u001b[0m\u001b[0;34m(\u001b[0m\u001b[0mout\u001b[0m\u001b[0;34m)\u001b[0m \u001b[0;34m<\u001b[0m \u001b[0;36m1\u001b[0m\u001b[0;34m:\u001b[0m\u001b[0;34m\u001b[0m\u001b[0;34m\u001b[0m\u001b[0m\n",
      "\u001b[0;32m/usr/local/lib/python3.6/dist-packages/joblib/parallel.py\u001b[0m in \u001b[0;36m__call__\u001b[0;34m(self, iterable)\u001b[0m\n\u001b[1;32m   1040\u001b[0m \u001b[0;34m\u001b[0m\u001b[0m\n\u001b[1;32m   1041\u001b[0m             \u001b[0;32mwith\u001b[0m \u001b[0mself\u001b[0m\u001b[0;34m.\u001b[0m\u001b[0m_backend\u001b[0m\u001b[0;34m.\u001b[0m\u001b[0mretrieval_context\u001b[0m\u001b[0;34m(\u001b[0m\u001b[0;34m)\u001b[0m\u001b[0;34m:\u001b[0m\u001b[0;34m\u001b[0m\u001b[0;34m\u001b[0m\u001b[0m\n\u001b[0;32m-> 1042\u001b[0;31m                 \u001b[0mself\u001b[0m\u001b[0;34m.\u001b[0m\u001b[0mretrieve\u001b[0m\u001b[0;34m(\u001b[0m\u001b[0;34m)\u001b[0m\u001b[0;34m\u001b[0m\u001b[0;34m\u001b[0m\u001b[0m\n\u001b[0m\u001b[1;32m   1043\u001b[0m             \u001b[0;31m# Make sure that we get a last message telling us we are done\u001b[0m\u001b[0;34m\u001b[0m\u001b[0;34m\u001b[0m\u001b[0;34m\u001b[0m\u001b[0m\n\u001b[1;32m   1044\u001b[0m             \u001b[0melapsed_time\u001b[0m \u001b[0;34m=\u001b[0m \u001b[0mtime\u001b[0m\u001b[0;34m.\u001b[0m\u001b[0mtime\u001b[0m\u001b[0;34m(\u001b[0m\u001b[0;34m)\u001b[0m \u001b[0;34m-\u001b[0m \u001b[0mself\u001b[0m\u001b[0;34m.\u001b[0m\u001b[0m_start_time\u001b[0m\u001b[0;34m\u001b[0m\u001b[0;34m\u001b[0m\u001b[0m\n",
      "\u001b[0;32m/usr/local/lib/python3.6/dist-packages/joblib/parallel.py\u001b[0m in \u001b[0;36mretrieve\u001b[0;34m(self)\u001b[0m\n\u001b[1;32m    919\u001b[0m             \u001b[0;32mtry\u001b[0m\u001b[0;34m:\u001b[0m\u001b[0;34m\u001b[0m\u001b[0;34m\u001b[0m\u001b[0m\n\u001b[1;32m    920\u001b[0m                 \u001b[0;32mif\u001b[0m \u001b[0mgetattr\u001b[0m\u001b[0;34m(\u001b[0m\u001b[0mself\u001b[0m\u001b[0;34m.\u001b[0m\u001b[0m_backend\u001b[0m\u001b[0;34m,\u001b[0m \u001b[0;34m'supports_timeout'\u001b[0m\u001b[0;34m,\u001b[0m \u001b[0;32mFalse\u001b[0m\u001b[0;34m)\u001b[0m\u001b[0;34m:\u001b[0m\u001b[0;34m\u001b[0m\u001b[0;34m\u001b[0m\u001b[0m\n\u001b[0;32m--> 921\u001b[0;31m                     \u001b[0mself\u001b[0m\u001b[0;34m.\u001b[0m\u001b[0m_output\u001b[0m\u001b[0;34m.\u001b[0m\u001b[0mextend\u001b[0m\u001b[0;34m(\u001b[0m\u001b[0mjob\u001b[0m\u001b[0;34m.\u001b[0m\u001b[0mget\u001b[0m\u001b[0;34m(\u001b[0m\u001b[0mtimeout\u001b[0m\u001b[0;34m=\u001b[0m\u001b[0mself\u001b[0m\u001b[0;34m.\u001b[0m\u001b[0mtimeout\u001b[0m\u001b[0;34m)\u001b[0m\u001b[0;34m)\u001b[0m\u001b[0;34m\u001b[0m\u001b[0;34m\u001b[0m\u001b[0m\n\u001b[0m\u001b[1;32m    922\u001b[0m                 \u001b[0;32melse\u001b[0m\u001b[0;34m:\u001b[0m\u001b[0;34m\u001b[0m\u001b[0;34m\u001b[0m\u001b[0m\n\u001b[1;32m    923\u001b[0m                     \u001b[0mself\u001b[0m\u001b[0;34m.\u001b[0m\u001b[0m_output\u001b[0m\u001b[0;34m.\u001b[0m\u001b[0mextend\u001b[0m\u001b[0;34m(\u001b[0m\u001b[0mjob\u001b[0m\u001b[0;34m.\u001b[0m\u001b[0mget\u001b[0m\u001b[0;34m(\u001b[0m\u001b[0;34m)\u001b[0m\u001b[0;34m)\u001b[0m\u001b[0;34m\u001b[0m\u001b[0;34m\u001b[0m\u001b[0m\n",
      "\u001b[0;32m/usr/local/lib/python3.6/dist-packages/joblib/_parallel_backends.py\u001b[0m in \u001b[0;36mwrap_future_result\u001b[0;34m(future, timeout)\u001b[0m\n\u001b[1;32m    540\u001b[0m         AsyncResults.get from multiprocessing.\"\"\"\n\u001b[1;32m    541\u001b[0m         \u001b[0;32mtry\u001b[0m\u001b[0;34m:\u001b[0m\u001b[0;34m\u001b[0m\u001b[0;34m\u001b[0m\u001b[0m\n\u001b[0;32m--> 542\u001b[0;31m             \u001b[0;32mreturn\u001b[0m \u001b[0mfuture\u001b[0m\u001b[0;34m.\u001b[0m\u001b[0mresult\u001b[0m\u001b[0;34m(\u001b[0m\u001b[0mtimeout\u001b[0m\u001b[0;34m=\u001b[0m\u001b[0mtimeout\u001b[0m\u001b[0;34m)\u001b[0m\u001b[0;34m\u001b[0m\u001b[0;34m\u001b[0m\u001b[0m\n\u001b[0m\u001b[1;32m    543\u001b[0m         \u001b[0;32mexcept\u001b[0m \u001b[0mCfTimeoutError\u001b[0m \u001b[0;32mas\u001b[0m \u001b[0me\u001b[0m\u001b[0;34m:\u001b[0m\u001b[0;34m\u001b[0m\u001b[0;34m\u001b[0m\u001b[0m\n\u001b[1;32m    544\u001b[0m             \u001b[0;32mraise\u001b[0m \u001b[0mTimeoutError\u001b[0m \u001b[0;32mfrom\u001b[0m \u001b[0me\u001b[0m\u001b[0;34m\u001b[0m\u001b[0;34m\u001b[0m\u001b[0m\n",
      "\u001b[0;32m/usr/lib/python3.6/concurrent/futures/_base.py\u001b[0m in \u001b[0;36mresult\u001b[0;34m(self, timeout)\u001b[0m\n\u001b[1;32m    425\u001b[0m                 \u001b[0;32mreturn\u001b[0m \u001b[0mself\u001b[0m\u001b[0;34m.\u001b[0m\u001b[0m__get_result\u001b[0m\u001b[0;34m(\u001b[0m\u001b[0;34m)\u001b[0m\u001b[0;34m\u001b[0m\u001b[0;34m\u001b[0m\u001b[0m\n\u001b[1;32m    426\u001b[0m \u001b[0;34m\u001b[0m\u001b[0m\n\u001b[0;32m--> 427\u001b[0;31m             \u001b[0mself\u001b[0m\u001b[0;34m.\u001b[0m\u001b[0m_condition\u001b[0m\u001b[0;34m.\u001b[0m\u001b[0mwait\u001b[0m\u001b[0;34m(\u001b[0m\u001b[0mtimeout\u001b[0m\u001b[0;34m)\u001b[0m\u001b[0;34m\u001b[0m\u001b[0;34m\u001b[0m\u001b[0m\n\u001b[0m\u001b[1;32m    428\u001b[0m \u001b[0;34m\u001b[0m\u001b[0m\n\u001b[1;32m    429\u001b[0m             \u001b[0;32mif\u001b[0m \u001b[0mself\u001b[0m\u001b[0;34m.\u001b[0m\u001b[0m_state\u001b[0m \u001b[0;32min\u001b[0m \u001b[0;34m[\u001b[0m\u001b[0mCANCELLED\u001b[0m\u001b[0;34m,\u001b[0m \u001b[0mCANCELLED_AND_NOTIFIED\u001b[0m\u001b[0;34m]\u001b[0m\u001b[0;34m:\u001b[0m\u001b[0;34m\u001b[0m\u001b[0;34m\u001b[0m\u001b[0m\n",
      "\u001b[0;32m/usr/lib/python3.6/threading.py\u001b[0m in \u001b[0;36mwait\u001b[0;34m(self, timeout)\u001b[0m\n\u001b[1;32m    293\u001b[0m         \u001b[0;32mtry\u001b[0m\u001b[0;34m:\u001b[0m    \u001b[0;31m# restore state no matter what (e.g., KeyboardInterrupt)\u001b[0m\u001b[0;34m\u001b[0m\u001b[0;34m\u001b[0m\u001b[0m\n\u001b[1;32m    294\u001b[0m             \u001b[0;32mif\u001b[0m \u001b[0mtimeout\u001b[0m \u001b[0;32mis\u001b[0m \u001b[0;32mNone\u001b[0m\u001b[0;34m:\u001b[0m\u001b[0;34m\u001b[0m\u001b[0;34m\u001b[0m\u001b[0m\n\u001b[0;32m--> 295\u001b[0;31m                 \u001b[0mwaiter\u001b[0m\u001b[0;34m.\u001b[0m\u001b[0macquire\u001b[0m\u001b[0;34m(\u001b[0m\u001b[0;34m)\u001b[0m\u001b[0;34m\u001b[0m\u001b[0;34m\u001b[0m\u001b[0m\n\u001b[0m\u001b[1;32m    296\u001b[0m                 \u001b[0mgotit\u001b[0m \u001b[0;34m=\u001b[0m \u001b[0;32mTrue\u001b[0m\u001b[0;34m\u001b[0m\u001b[0;34m\u001b[0m\u001b[0m\n\u001b[1;32m    297\u001b[0m             \u001b[0;32melse\u001b[0m\u001b[0;34m:\u001b[0m\u001b[0;34m\u001b[0m\u001b[0;34m\u001b[0m\u001b[0m\n",
      "\u001b[0;31mKeyboardInterrupt\u001b[0m: "
     ]
    }
   ],
   "source": [
    "model_list=[\"KNN\",\"LR\",\"SVM\",\"GNB\",\"RF\",\"XGB\"]\n",
    "pred_dict={}\n",
    "for model in tqdm(model_list):\n",
    "  prediction=rskf_train(X_scaled,Y,test_scaled,model)\n",
    "  pred_dict[model]=prediction\n"
   ]
  },
  {
   "cell_type": "code",
   "execution_count": 102,
   "metadata": {
    "colab": {
     "base_uri": "https://localhost:8080/",
     "height": 1000
    },
    "colab_type": "code",
    "id": "OfiPSv-g4by9",
    "outputId": "f6458332-c07f-4f82-d958-62f739cdd738"
   },
   "outputs": [
    {
     "name": "stdout",
     "output_type": "stream",
     "text": [
      "Skipping Model for this Iteration\n",
      "<---Model ok for iteration\n",
      "<---Model ok for iteration\n",
      "Skipping Model for this Iteration\n",
      "<---Model ok for iteration\n",
      "<---Model ok for iteration\n",
      "Skipping Model for this Iteration\n",
      "<---Model ok for iteration\n",
      "Skipping Model for this Iteration\n",
      "Skipping Model for this Iteration\n",
      "<---Model ok for iteration\n",
      "Skipping Model for this Iteration\n",
      "<---Model ok for iteration\n",
      "Skipping Model for this Iteration\n",
      "Skipping Model for this Iteration\n",
      "<---Model ok for iteration\n",
      "<---Model ok for iteration\n",
      "<---Model ok for iteration\n",
      "<---Model ok for iteration\n",
      "Skipping Model for this Iteration\n",
      "<---Model ok for iteration\n",
      "<---Model ok for iteration\n",
      "<---Model ok for iteration\n",
      "<---Model ok for iteration\n",
      "Skipping Model for this Iteration\n",
      "<---Model ok for iteration\n",
      "<---Model ok for iteration\n",
      "Skipping Model for this Iteration\n",
      "<---Model ok for iteration\n",
      "Skipping Model for this Iteration\n",
      "<---Model ok for iteration\n",
      "<---Model ok for iteration\n",
      "<---Model ok for iteration\n",
      "<---Model ok for iteration\n",
      "Skipping Model for this Iteration\n",
      "Skipping Model for this Iteration\n",
      "Skipping Model for this Iteration\n",
      "<---Model ok for iteration\n",
      "Skipping Model for this Iteration\n",
      "Skipping Model for this Iteration\n",
      "<---Model ok for iteration\n",
      "Skipping Model for this Iteration\n",
      "Skipping Model for this Iteration\n",
      "Skipping Model for this Iteration\n",
      "<---Model ok for iteration\n",
      "Skipping Model for this Iteration\n",
      "<---Model ok for iteration\n",
      "Skipping Model for this Iteration\n",
      "<---Model ok for iteration\n",
      "Skipping Model for this Iteration\n",
      "<---Model ok for iteration\n",
      "Skipping Model for this Iteration\n",
      "Skipping Model for this Iteration\n",
      "Skipping Model for this Iteration\n",
      "<---Model ok for iteration\n",
      "<---Model ok for iteration\n",
      "Skipping Model for this Iteration\n",
      "<---Model ok for iteration\n",
      "Skipping Model for this Iteration\n",
      "Skipping Model for this Iteration\n",
      "Skipping Model for this Iteration\n",
      "<---Model ok for iteration\n",
      "Skipping Model for this Iteration\n",
      "<---Model ok for iteration\n",
      "<---Model ok for iteration\n",
      "Skipping Model for this Iteration\n",
      "<---Model ok for iteration\n",
      "Skipping Model for this Iteration\n",
      "<---Model ok for iteration\n",
      "<---Model ok for iteration\n",
      "<---Model ok for iteration\n",
      "<---Model ok for iteration\n",
      "Skipping Model for this Iteration\n",
      "Skipping Model for this Iteration\n",
      "<---Model ok for iteration\n",
      "<---Model ok for iteration\n",
      "<---Model ok for iteration\n",
      "<---Model ok for iteration\n",
      "<---Model ok for iteration\n",
      "<---Model ok for iteration\n",
      "<---Model ok for iteration\n",
      "Skipping Model for this Iteration\n",
      "<---Model ok for iteration\n",
      "<---Model ok for iteration\n",
      "<---Model ok for iteration\n",
      "Skipping Model for this Iteration\n",
      "<---Model ok for iteration\n",
      "<---Model ok for iteration\n",
      "Skipping Model for this Iteration\n",
      "<---Model ok for iteration\n",
      "Skipping Model for this Iteration\n",
      "Skipping Model for this Iteration\n",
      "<---Model ok for iteration\n",
      "<---Model ok for iteration\n",
      "<---Model ok for iteration\n",
      "Skipping Model for this Iteration\n",
      "Skipping Model for this Iteration\n",
      "<---Model ok for iteration\n",
      "<---Model ok for iteration\n",
      "<---Model ok for iteration\n"
     ]
    }
   ],
   "source": [
    "pred_xgb=rskf_train(X_scaled,Y,test_scaled,\"XGB\")\n",
    "pred_dict[\"XGB\"]=pred_xgb"
   ]
  },
  {
   "cell_type": "code",
   "execution_count": 126,
   "metadata": {
    "colab": {
     "base_uri": "https://localhost:8080/",
     "height": 126
    },
    "colab_type": "code",
    "id": "GtPqg3GgODBH",
    "outputId": "24c59c6e-050c-4a59-e2fc-957e58510a73"
   },
   "outputs": [
    {
     "data": {
      "text/html": [
       "<div>\n",
       "<style scoped>\n",
       "    .dataframe tbody tr th:only-of-type {\n",
       "        vertical-align: middle;\n",
       "    }\n",
       "\n",
       "    .dataframe tbody tr th {\n",
       "        vertical-align: top;\n",
       "    }\n",
       "\n",
       "    .dataframe thead th {\n",
       "        text-align: right;\n",
       "    }\n",
       "</style>\n",
       "<table border=\"1\" class=\"dataframe\">\n",
       "  <thead>\n",
       "    <tr style=\"text-align: right;\">\n",
       "      <th></th>\n",
       "      <th>0</th>\n",
       "      <th>1</th>\n",
       "      <th>2</th>\n",
       "      <th>3</th>\n",
       "      <th>4</th>\n",
       "      <th>5</th>\n",
       "      <th>6</th>\n",
       "      <th>7</th>\n",
       "      <th>8</th>\n",
       "      <th>9</th>\n",
       "      <th>10</th>\n",
       "      <th>11</th>\n",
       "      <th>12</th>\n",
       "      <th>13</th>\n",
       "      <th>14</th>\n",
       "      <th>15</th>\n",
       "      <th>16</th>\n",
       "      <th>17</th>\n",
       "      <th>18</th>\n",
       "      <th>19</th>\n",
       "      <th>20</th>\n",
       "      <th>21</th>\n",
       "      <th>22</th>\n",
       "      <th>23</th>\n",
       "      <th>24</th>\n",
       "      <th>25</th>\n",
       "      <th>26</th>\n",
       "      <th>27</th>\n",
       "      <th>28</th>\n",
       "      <th>29</th>\n",
       "      <th>30</th>\n",
       "      <th>31</th>\n",
       "      <th>32</th>\n",
       "      <th>33</th>\n",
       "      <th>34</th>\n",
       "      <th>35</th>\n",
       "      <th>36</th>\n",
       "      <th>37</th>\n",
       "      <th>38</th>\n",
       "      <th>39</th>\n",
       "      <th>...</th>\n",
       "      <th>263</th>\n",
       "      <th>264</th>\n",
       "      <th>265</th>\n",
       "      <th>266</th>\n",
       "      <th>267</th>\n",
       "      <th>268</th>\n",
       "      <th>269</th>\n",
       "      <th>270</th>\n",
       "      <th>271</th>\n",
       "      <th>272</th>\n",
       "      <th>273</th>\n",
       "      <th>274</th>\n",
       "      <th>275</th>\n",
       "      <th>276</th>\n",
       "      <th>277</th>\n",
       "      <th>278</th>\n",
       "      <th>279</th>\n",
       "      <th>280</th>\n",
       "      <th>281</th>\n",
       "      <th>282</th>\n",
       "      <th>283</th>\n",
       "      <th>284</th>\n",
       "      <th>285</th>\n",
       "      <th>286</th>\n",
       "      <th>287</th>\n",
       "      <th>288</th>\n",
       "      <th>289</th>\n",
       "      <th>290</th>\n",
       "      <th>291</th>\n",
       "      <th>292</th>\n",
       "      <th>293</th>\n",
       "      <th>294</th>\n",
       "      <th>295</th>\n",
       "      <th>296</th>\n",
       "      <th>297</th>\n",
       "      <th>298</th>\n",
       "      <th>299</th>\n",
       "      <th>mean</th>\n",
       "      <th>sum</th>\n",
       "      <th>std_dev</th>\n",
       "    </tr>\n",
       "  </thead>\n",
       "  <tbody>\n",
       "    <tr>\n",
       "      <th>0</th>\n",
       "      <td>0.478452</td>\n",
       "      <td>-0.998843</td>\n",
       "      <td>-1.728417</td>\n",
       "      <td>0.304138</td>\n",
       "      <td>-0.692502</td>\n",
       "      <td>0.533981</td>\n",
       "      <td>0.500624</td>\n",
       "      <td>-0.221157</td>\n",
       "      <td>-0.675928</td>\n",
       "      <td>1.233779</td>\n",
       "      <td>0.472827</td>\n",
       "      <td>-0.413123</td>\n",
       "      <td>1.74456</td>\n",
       "      <td>-0.225866</td>\n",
       "      <td>-0.349993</td>\n",
       "      <td>-0.011904</td>\n",
       "      <td>0.7686</td>\n",
       "      <td>0.861594</td>\n",
       "      <td>1.933633</td>\n",
       "      <td>0.289704</td>\n",
       "      <td>1.221403</td>\n",
       "      <td>-0.543319</td>\n",
       "      <td>-1.070748</td>\n",
       "      <td>-0.488631</td>\n",
       "      <td>0.312807</td>\n",
       "      <td>-0.829138</td>\n",
       "      <td>-1.344914</td>\n",
       "      <td>0.118911</td>\n",
       "      <td>0.321268</td>\n",
       "      <td>0.97885</td>\n",
       "      <td>-0.946246</td>\n",
       "      <td>0.857462</td>\n",
       "      <td>-1.099893</td>\n",
       "      <td>2.094126</td>\n",
       "      <td>0.992371</td>\n",
       "      <td>-2.137897</td>\n",
       "      <td>-0.869637</td>\n",
       "      <td>0.120537</td>\n",
       "      <td>0.539353</td>\n",
       "      <td>0.235924</td>\n",
       "      <td>...</td>\n",
       "      <td>1.472208</td>\n",
       "      <td>0.594182</td>\n",
       "      <td>0.620882</td>\n",
       "      <td>-1.076035</td>\n",
       "      <td>1.121284</td>\n",
       "      <td>1.020632</td>\n",
       "      <td>0.171795</td>\n",
       "      <td>-1.594102</td>\n",
       "      <td>1.162126</td>\n",
       "      <td>0.021879</td>\n",
       "      <td>-0.804297</td>\n",
       "      <td>0.179067</td>\n",
       "      <td>0.13728</td>\n",
       "      <td>-0.714548</td>\n",
       "      <td>0.679659</td>\n",
       "      <td>-0.285295</td>\n",
       "      <td>-1.594176</td>\n",
       "      <td>0.267015</td>\n",
       "      <td>0.991283</td>\n",
       "      <td>0.373836</td>\n",
       "      <td>-0.680804</td>\n",
       "      <td>1.135573</td>\n",
       "      <td>0.793785</td>\n",
       "      <td>0.394572</td>\n",
       "      <td>1.703194</td>\n",
       "      <td>-0.725889</td>\n",
       "      <td>0.957907</td>\n",
       "      <td>-0.131418</td>\n",
       "      <td>-2.837717</td>\n",
       "      <td>-0.906667</td>\n",
       "      <td>2.180115</td>\n",
       "      <td>-0.200209</td>\n",
       "      <td>2.159692</td>\n",
       "      <td>0.582494</td>\n",
       "      <td>-0.110786</td>\n",
       "      <td>0.300799</td>\n",
       "      <td>1.143073</td>\n",
       "      <td>2.47992</td>\n",
       "      <td>2.47992</td>\n",
       "      <td>3.225931</td>\n",
       "    </tr>\n",
       "  </tbody>\n",
       "</table>\n",
       "<p>1 rows × 303 columns</p>\n",
       "</div>"
      ],
      "text/plain": [
       "          0         1         2         3  ...       299     mean      sum   std_dev\n",
       "0  0.478452 -0.998843 -1.728417  0.304138  ...  1.143073  2.47992  2.47992  3.225931\n",
       "\n",
       "[1 rows x 303 columns]"
      ]
     },
     "execution_count": 126,
     "metadata": {
      "tags": []
     },
     "output_type": "execute_result"
    }
   ],
   "source": [
    "test_scaled.head(1)"
   ]
  },
  {
   "cell_type": "code",
   "execution_count": 148,
   "metadata": {
    "colab": {},
    "colab_type": "code",
    "id": "KXnXMYQtHdp4"
   },
   "outputs": [],
   "source": [
    "def stacking_classifier(data,te_scaled,Y):\n",
    "  test_val=np.zeros(len(te_scaled))\n",
    "  cnt=0\n",
    "  rskf=rskf_func(10,10)\n",
    "  clf1,param1=model_with_parameters(\"LR\")\n",
    "  clf2,param2=model_with_parameters(\"SVM\")\n",
    "  clf3,param3=model_with_parameters(\"RF\")\n",
    "  clf4,param4=model_with_parameters(\"XGB\")\n",
    "  for train_index,valid_index in rskf.split(data,Y):\n",
    "      #Gets 19 chunks of splitted data for train and 1 chunk for the validation out of 20 chunks\n",
    "      #Each chunk can be used for validation once.Hence 20 iterations for 20 chunks\n",
    "      #And we are repeating the process for 20 times.So 400 iterations in total\n",
    "      X_train,X_valid=data.loc[train_index],X.loc[valid_index]\n",
    "      Y_train,Y_valid=Y.loc[train_index],Y.loc[valid_index]\n",
    "\n",
    "      grid_model_1=RandomizedSearchCV(clf1,param1,cv=3,scoring='roc_auc',n_jobs=-1,verbose=0)\n",
    "      grid_model_1.fit(X_train,Y_train)\n",
    "      clf_1_calib=CalibratedClassifierCV(grid_model_1.best_estimator_,cv=3,method='sigmoid')\n",
    "      clf_1_calib.fit(X_train,Y_train)\n",
    "\n",
    "      grid_model_2=RandomizedSearchCV(clf2,param2,cv=3,scoring='roc_auc',n_jobs=-1,verbose=0)\n",
    "      grid_model_2.fit(X_train,Y_train)\n",
    "      clf_2_calib=CalibratedClassifierCV(grid_model_2.best_estimator_,cv=3,method='sigmoid')\n",
    "      clf_2_calib.fit(X_train,Y_train)\n",
    "\n",
    "      grid_model_3=RandomizedSearchCV(clf3,param3,cv=3,scoring='roc_auc',n_jobs=-1,verbose=0)\n",
    "      grid_model_3.fit(X_train,Y_train)\n",
    "      clf_3_calib=CalibratedClassifierCV(grid_model_3.best_estimator_,cv=3,method='sigmoid')\n",
    "      clf_3_calib.fit(X_train,Y_train)\n",
    "\n",
    "      grid_model_4=RandomizedSearchCV(clf4,param4,cv=3,scoring='roc_auc',n_jobs=-1,verbose=0)\n",
    "      grid_model_4.fit(X_train,Y_train)\n",
    "      clf_4_calib=CalibratedClassifierCV(grid_model_4.best_estimator_,cv=3,method='sigmoid')\n",
    "      clf_4_calib.fit(X_train,Y_train)\n",
    "\n",
    "      sclf=StackingClassifier(classifiers=[clf_1_calib,clf_2_calib,clf_3_calib,clf_4_calib],meta_classifier=clf_1_calib,use_probas=True)\n",
    "\n",
    "      sclf.fit(X_train,Y_train)\n",
    "\n",
    "      score=roc_auc_score(Y_valid.values,sclf.predict_proba(X_valid)[:,1])\n",
    "\n",
    "      if score > 0.75:\n",
    "        print(\"Model is ok for this iteration\")\n",
    "        test_val+=sclf.predict_proba(te_scaled)[:,1]\n",
    "        cnt+=1\n",
    "      else:\n",
    "        print(\"Skipping this iteration\")\n",
    "\n",
    "  final_stack_prediction=test_val* (1./cnt)\n",
    "\n",
    "  return final_stack_prediction\n",
    "      \n",
    "\n"
   ]
  },
  {
   "cell_type": "code",
   "execution_count": 123,
   "metadata": {
    "colab": {
     "base_uri": "https://localhost:8080/",
     "height": 34
    },
    "colab_type": "code",
    "id": "iaf4ornLNgpP",
    "outputId": "86cb6eef-5e58-4212-a8a5-9d93490d86c5"
   },
   "outputs": [
    {
     "data": {
      "text/plain": [
       "(250, 303)"
      ]
     },
     "execution_count": 123,
     "metadata": {
      "tags": []
     },
     "output_type": "execute_result"
    }
   ],
   "source": [
    "X_scaled.shape"
   ]
  },
  {
   "cell_type": "code",
   "execution_count": 149,
   "metadata": {
    "colab": {
     "base_uri": "https://localhost:8080/",
     "height": 1000
    },
    "colab_type": "code",
    "id": "oxSptyfmMVZm",
    "outputId": "58855a5a-708e-4c7b-95a1-d658448496f2"
   },
   "outputs": [
    {
     "name": "stdout",
     "output_type": "stream",
     "text": [
      "Skipping this iteration\n",
      "Model is ok for this iteration\n",
      "Skipping this iteration\n",
      "Model is ok for this iteration\n",
      "Skipping this iteration\n",
      "Model is ok for this iteration\n",
      "Model is ok for this iteration\n",
      "Skipping this iteration\n",
      "Skipping this iteration\n",
      "Model is ok for this iteration\n",
      "Model is ok for this iteration\n",
      "Model is ok for this iteration\n",
      "Model is ok for this iteration\n",
      "Skipping this iteration\n",
      "Model is ok for this iteration\n",
      "Model is ok for this iteration\n",
      "Skipping this iteration\n",
      "Skipping this iteration\n",
      "Model is ok for this iteration\n",
      "Model is ok for this iteration\n",
      "Skipping this iteration\n",
      "Model is ok for this iteration\n",
      "Model is ok for this iteration\n",
      "Model is ok for this iteration\n",
      "Skipping this iteration\n",
      "Skipping this iteration\n",
      "Skipping this iteration\n",
      "Model is ok for this iteration\n",
      "Model is ok for this iteration\n",
      "Skipping this iteration\n",
      "Model is ok for this iteration\n",
      "Skipping this iteration\n",
      "Skipping this iteration\n",
      "Skipping this iteration\n",
      "Model is ok for this iteration\n",
      "Skipping this iteration\n",
      "Skipping this iteration\n",
      "Skipping this iteration\n",
      "Skipping this iteration\n",
      "Model is ok for this iteration\n",
      "Skipping this iteration\n",
      "Model is ok for this iteration\n",
      "Model is ok for this iteration\n",
      "Model is ok for this iteration\n",
      "Skipping this iteration\n",
      "Model is ok for this iteration\n",
      "Model is ok for this iteration\n",
      "Model is ok for this iteration\n",
      "Skipping this iteration\n",
      "Skipping this iteration\n",
      "Skipping this iteration\n",
      "Skipping this iteration\n",
      "Skipping this iteration\n",
      "Skipping this iteration\n",
      "Skipping this iteration\n",
      "Model is ok for this iteration\n",
      "Model is ok for this iteration\n",
      "Skipping this iteration\n",
      "Model is ok for this iteration\n",
      "Model is ok for this iteration\n",
      "Model is ok for this iteration\n",
      "Model is ok for this iteration\n",
      "Model is ok for this iteration\n",
      "Model is ok for this iteration\n",
      "Skipping this iteration\n",
      "Model is ok for this iteration\n",
      "Skipping this iteration\n",
      "Skipping this iteration\n",
      "Model is ok for this iteration\n",
      "Model is ok for this iteration\n",
      "Skipping this iteration\n",
      "Skipping this iteration\n",
      "Skipping this iteration\n",
      "Model is ok for this iteration\n",
      "Model is ok for this iteration\n",
      "Skipping this iteration\n",
      "Model is ok for this iteration\n",
      "Model is ok for this iteration\n",
      "Skipping this iteration\n",
      "Model is ok for this iteration\n",
      "Model is ok for this iteration\n",
      "Skipping this iteration\n",
      "Skipping this iteration\n",
      "Model is ok for this iteration\n",
      "Skipping this iteration\n",
      "Skipping this iteration\n",
      "Skipping this iteration\n",
      "Model is ok for this iteration\n",
      "Model is ok for this iteration\n",
      "Skipping this iteration\n",
      "Model is ok for this iteration\n",
      "Model is ok for this iteration\n",
      "Skipping this iteration\n",
      "Skipping this iteration\n",
      "Model is ok for this iteration\n",
      "Skipping this iteration\n",
      "Model is ok for this iteration\n",
      "Model is ok for this iteration\n"
     ]
    }
   ],
   "source": [
    "stack_prediction=stacking_classifier(X_scaled,test_scaled,Y)"
   ]
  },
  {
   "cell_type": "code",
   "execution_count": 151,
   "metadata": {
    "colab": {},
    "colab_type": "code",
    "id": "s0elXWlrZYiy"
   },
   "outputs": [],
   "source": [
    "stk_dict={}\n",
    "stk_dict[\"stack\"]=stack_prediction"
   ]
  },
  {
   "cell_type": "code",
   "execution_count": 103,
   "metadata": {
    "colab": {
     "base_uri": "https://localhost:8080/",
     "height": 34
    },
    "colab_type": "code",
    "id": "j6dd9Yxn4U1s",
    "outputId": "f2e669c2-f20d-40e1-fa41-8617b6d16845"
   },
   "outputs": [
    {
     "data": {
      "text/plain": [
       "dict_keys(['KNN', 'LR', 'SVM', 'GNB', 'RF', 'XGB'])"
      ]
     },
     "execution_count": 103,
     "metadata": {
      "tags": []
     },
     "output_type": "execute_result"
    }
   ],
   "source": [
    "pred_dict.keys()"
   ]
  },
  {
   "cell_type": "code",
   "execution_count": 104,
   "metadata": {
    "colab": {},
    "colab_type": "code",
    "id": "_eONxEt4r64x"
   },
   "outputs": [],
   "source": [
    "def final_submission_csv(name): #Getting csv for kaggle submission\n",
    "    sub_df=pd.read_csv(\"sample_submission.csv\")\n",
    "    for k,v in name.items():\n",
    "      final_df=pd.concat([sub_df[\"id\"],pd.DataFrame(v)],axis=1)\n",
    "      final_df.columns=[\"id\",\"target\"]\n",
    "      final_df.to_csv(k + \".csv\",index=False)\n",
    "    "
   ]
  },
  {
   "cell_type": "code",
   "execution_count": 105,
   "metadata": {
    "colab": {},
    "colab_type": "code",
    "id": "gUYQKRcCr649"
   },
   "outputs": [],
   "source": [
    "final_submission_csv(pred_dict)"
   ]
  },
  {
   "cell_type": "code",
   "execution_count": 152,
   "metadata": {
    "colab": {},
    "colab_type": "code",
    "id": "taZFwOnAb4F7"
   },
   "outputs": [],
   "source": [
    "final_submission_csv(stk_dict)"
   ]
  },
  {
   "cell_type": "markdown",
   "metadata": {
    "colab_type": "text",
    "id": "PtlySu_Wr650"
   },
   "source": [
    "<h2>Final Score </h2>"
   ]
  },
  {
   "cell_type": "markdown",
   "metadata": {
    "colab_type": "text",
    "id": "7X3oHcO9r652"
   },
   "source": [
    "<b>\n",
    "\n",
    "- With Stacked Model we get a Private Score of 0.825 and Public Score of 0.838\n",
    "\n",
    "</b>"
   ]
  },
  {
   "cell_type": "markdown",
   "metadata": {
    "colab_type": "text",
    "id": "l-6VIyGUr653"
   },
   "source": [
    "<h2>Conclusion </h2>"
   ]
  },
  {
   "cell_type": "markdown",
   "metadata": {
    "colab_type": "text",
    "id": "eUfICkHxr654"
   },
   "source": [
    "- Simple Logistic Regression with K-Fold Cross Validation we got 80 % ROC \n",
    "- More Complex Stacked Classifer and Feature Selection Techniques help us achieve 83% ROC\n",
    "- Without LB Probing we could get a good classifier which separates the data well in  Private LB "
   ]
  },
  {
   "cell_type": "markdown",
   "metadata": {
    "colab_type": "text",
    "id": "6DidiExyr655"
   },
   "source": [
    "<h2>References </h2>"
   ]
  },
  {
   "cell_type": "markdown",
   "metadata": {
    "colab_type": "text",
    "id": "Q_8Wl9Pjr655"
   },
   "source": [
    "- https://www.kaggle.com/featureblind/robust-lasso-patches-with-rfe-gs\n",
    "- https://www.kaggle.com/rafjaa/dealing-with-very-small-datasets\n",
    "- https://www.kaggle.com/iavinas/simple-short-solution-don-t-overfit-0-848\n",
    "- https://www.appliedaicourse.com/lecture/11/applied-machine-learning-online-course/3096/stacking-models/4/module-4-machine-learning-ii-supervised-learning-models"
   ]
  }
 ],
 "metadata": {
  "colab": {
   "collapsed_sections": [],
   "name": "Dont_Overfit-ML_Models + Standardization + Stratified_K_FOLD.ipynb",
   "provenance": [],
   "toc_visible": true
  },
  "kernelspec": {
   "display_name": "Python 3",
   "language": "python",
   "name": "python3"
  },
  "language_info": {
   "codemirror_mode": {
    "name": "ipython",
    "version": 3
   },
   "file_extension": ".py",
   "mimetype": "text/x-python",
   "name": "python",
   "nbconvert_exporter": "python",
   "pygments_lexer": "ipython3",
   "version": "3.8.3"
  }
 },
 "nbformat": 4,
 "nbformat_minor": 1
}
